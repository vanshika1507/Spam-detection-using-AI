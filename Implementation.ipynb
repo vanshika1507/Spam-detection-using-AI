{
 "cells": [
  {
   "cell_type": "markdown",
   "id": "16d48800",
   "metadata": {},
   "source": [
    "<h1> MAJOR PROJECT\n",
    "<h3> Problem Statement\n",
    "<h5> Our problem statement is based on the theme AI in Spam Detection and deals with how the mails we receive are classified as spam or not and prevents important mails to be reported spam. So, we feel that the solution to this problem can be a proper analysis from the spam reporter involving specific questions pointing towards what words or sentences made them question the sender’s intent to be able to categorize emails correctly. This would be carried out via simple code. The task is to classify the e-mails as spam or non-spam; hence we'll be using the classification model. We here use Naive Bayes as it works better for models performing text classification task."
   ]
  },
  {
   "cell_type": "markdown",
   "id": "6b0b6172",
   "metadata": {},
   "source": [
    "<H3> SPAM FEEDBACK ANALYSIS"
   ]
  },
  {
   "cell_type": "markdown",
   "id": "8f1cfa7a",
   "metadata": {},
   "source": [
    "We have used GUI as a sample for the analysis from user.\n",
    "\n",
    "We check the genuinty of the spam reported by asking a set of questions from the user as visible on the new window created by tkinter."
   ]
  },
  {
   "cell_type": "code",
   "execution_count": 1,
   "id": "dfcca40f",
   "metadata": {},
   "outputs": [
    {
     "name": "stderr",
     "output_type": "stream",
     "text": [
      "2023-11-17 12:19:09.330 Python[3639:62543] WARNING: Secure coding is not enabled for restorable state! Enable secure coding by implementing NSApplicationDelegate.applicationSupportsSecureRestorableState: and returning YES.\n"
     ]
    },
    {
     "name": "stdout",
     "output_type": "stream",
     "text": [
      "['', '', '', '', '']\n"
     ]
    }
   ],
   "source": [
    "from tkinter import *\n",
    "def demo1():\n",
    "    values = []\n",
    "    window = Tk()\n",
    "    window.title(\"REPORT SPAM\")\n",
    "    # StringVar to store the value entered in the Entry widget\n",
    "    entry_value1 = StringVar()\n",
    "    entry_value2 = StringVar()\n",
    "    entry_value3 = StringVar()\n",
    "    entry_value4 = StringVar()\n",
    "    entry_value5 = StringVar()\n",
    "    Label(window, text=\"Q1. What is the reason? \\n1. Offensive content \\n2. Financial scams \\n3. Not required any longer \\n4. Never accessed that site/product \\n5. Fake lottery/ price notifications\\n6.Others\").grid(row=1, column=0)\n",
    "    entry1 = Entry(window, textvariable=entry_value1, bg=\"LightBlue\")\n",
    "    entry1.grid(row=1, column=1)\n",
    "    Label(window, text=\"Q2. How frequent have you received this sender's email? \\n1.Once \\n2.Less than 5 \\n3.Less than 10 \\n4.10+\").grid(row = 2, column = 0)\n",
    "    entry2 = Entry(window, textvariable = entry_value2, bg = \"LightBlue\")\n",
    "    entry2.grid(row=2, column=1)\n",
    "    Label(window,text = \"Q3. What were the 3 most prominent words which made you question the sender's intent?\" ).grid(row = 3, column = 0)\n",
    "    entry3 = Entry(window, textvariable = entry_value3, bg = \"LightBlue\")\n",
    "    entry3.grid(row=4, column=1)\n",
    "    entry4 = Entry(window, textvariable = entry_value4, bg = \"LightBlue\")\n",
    "    entry4.grid(row=5, column=1)\n",
    "    entry5 = Entry(window, textvariable = entry_value5, bg = \"LightBlue\")\n",
    "    entry5.grid(row=6, column=1)\n",
    "    def on_button_click():\n",
    "        window.destroy()\n",
    "\n",
    "    button = Button(window, text=\"Submit\", command=on_button_click)\n",
    "    button.grid(row=7, column=7, columnspan=2)\n",
    "\n",
    "    window.mainloop()\n",
    "\n",
    "    # Retrieve the value from the StringVar after mainloop has finished\n",
    "    values = [entry_value1.get(), entry_value2.get(), entry_value3.get(), entry_value4.get(), entry_value5.get()]\n",
    "    return values\n",
    "demo1_result = demo1()\n",
    "print(demo1_result)"
   ]
  },
  {
   "cell_type": "code",
   "execution_count": 2,
   "id": "60d2e1a6",
   "metadata": {},
   "outputs": [],
   "source": [
    "a = demo1_result[0].lower()\n",
    "b = demo1_result[1].lower()\n",
    "c = demo1_result[2].lower()\n",
    "d = demo1_result[3].lower()\n",
    "e = demo1_result[4].lower()"
   ]
  },
  {
   "cell_type": "code",
   "execution_count": 3,
   "id": "cd7aff39",
   "metadata": {},
   "outputs": [],
   "source": [
    "lst = [\"free\", \"money\", \"click\", \"win\", \"prize\", \"congratulations\", \"offer\", \"sale\", \"discount\", \"viagra\", \"urgent\", \"act now\", \"limited time\", \"cash\", \"guaranteed\", \"million\", \"lottery\", \"unsubscribe\", \"opportunity\", \"credit card\"]"
   ]
  },
  {
   "cell_type": "markdown",
   "id": "0551ee64",
   "metadata": {},
   "source": [
    "Now, we provide different scores as per the inputs of the spam reporter in our Spam Feedback Ananlysis.\n",
    "\n",
    "-Why ?\n",
    "  1.\tOffensive content = 3\n",
    "  2.\tFinancial scams = 4\n",
    "  3.\tNot required any longer = 2\n",
    "  4.\tNever accessed that site/product = 2\n",
    "  5.\tFake lottery/ price notifications = 3\n",
    "  6.\tOthers = 1\n",
    "  \n",
    "-Frequency ?\n",
    "  1.\tOnce = 0\n",
    "  2.\tLess than 5 = 1\n",
    "  3.\tLess than 10 = 2\n",
    "  4.\t10+ = 3\n",
    "  \n",
    "-3 most prominent words?\n",
    "\n",
    "Score given out of 3 and words are compared with list \"lst\"(having the 20 most frequent words found in spam emails)"
   ]
  },
  {
   "cell_type": "code",
   "execution_count": 4,
   "id": "794ef104",
   "metadata": {},
   "outputs": [
    {
     "name": "stdout",
     "output_type": "stream",
     "text": [
      "7\n"
     ]
    }
   ],
   "source": [
    "score = 0\n",
    "if a=='1':\n",
    "    score += 3\n",
    "elif a=='2':\n",
    "    score += 4\n",
    "elif a=='3':\n",
    "    score += 2\n",
    "elif a=='4':\n",
    "    score += 2\n",
    "elif a=='5':\n",
    "    score += 3\n",
    "else:\n",
    "    score += 1\n",
    "    \n",
    "if b=='1':\n",
    "    score += 0\n",
    "elif b=='2':\n",
    "    score += 1\n",
    "elif b=='3':\n",
    "    score += 2\n",
    "elif b=='4':\n",
    "    score +=3\n",
    "    \n",
    "for i in lst:\n",
    "    if c==i or d==i or e==i:\n",
    "        score +=1\n",
    "        \n",
    "print(score)"
   ]
  },
  {
   "cell_type": "markdown",
   "id": "3a168019",
   "metadata": {},
   "source": [
    "*****The spam detection model will now come into picture iff the score >= 6*****"
   ]
  },
  {
   "cell_type": "code",
   "execution_count": 5,
   "id": "994bc81e",
   "metadata": {},
   "outputs": [
    {
     "name": "stdout",
     "output_type": "stream",
     "text": [
      "CHECK FOR SPAM\n"
     ]
    }
   ],
   "source": [
    "x = False\n",
    "if score >= 6:\n",
    "    print(\"CHECK FOR SPAM\")\n",
    "    x = True"
   ]
  },
  {
   "cell_type": "markdown",
   "id": "0c318bf9",
   "metadata": {},
   "source": [
    "<h2> sklearn"
   ]
  },
  {
   "cell_type": "markdown",
   "id": "a74b4420",
   "metadata": {},
   "source": [
    "In the following block of code we have used the Multinomial Naive bayes model to classify mails as either spam/ ham i.e. non_spam.\n",
    "The dataset used by us is - https://www.kaggle.com/datasets/balaka18/email-spam-classification-dataset-csv"
   ]
  },
  {
   "cell_type": "code",
   "execution_count": 6,
   "id": "a9f2a76b",
   "metadata": {},
   "outputs": [
    {
     "name": "stdout",
     "output_type": "stream",
     "text": [
      "df shape: (5172, 3002)\n",
      "(X Shape, Y Shape): (5172, 3000) (5172,)\n",
      "(X_train Shape, Y_train Shape): (4137, 3000) (4137,)\n",
      "(X_test Shape, Y_test Shape): (1035, 3000) (1035,)\n",
      "Model prediction: [0 0 1 ... 0 1 0]\n",
      "Model score on test data 0.9545893719806763\n",
      "Model score on training data 0.943437273386512\n"
     ]
    }
   ],
   "source": [
    "if x == True:\n",
    "    import pandas as pd\n",
    "    df = pd.read_csv(\"emails.csv\")\n",
    "\n",
    "    print(\"df shape:\", df.shape)\n",
    "\n",
    "    from sklearn.model_selection import train_test_split \n",
    "    \n",
    "    Y = df['Prediction']\n",
    "    X = df.drop(columns = ['Prediction', 'Email No.'])\n",
    "\n",
    "    print(\"(X Shape, Y Shape):\", X.shape, Y.shape)\n",
    "\n",
    "\n",
    "    from sklearn.naive_bayes import MultinomialNB\n",
    "\n",
    "    X_train, X_test, Y_train, Y_test = train_test_split(X, Y, test_size = 0.2, random_state = 42)\n",
    "    print(\"(X_train Shape, Y_train Shape):\", X_train.shape, Y_train.shape)\n",
    "    print(\"(X_test Shape, Y_test Shape):\", X_test.shape, Y_test.shape)\n",
    "\n",
    "    model = MultinomialNB()\n",
    "    model.fit(X_train, Y_train)\n",
    "    print(\"Model prediction:\", model.predict(X_test))\n",
    "    print(\"Model score on test data\", model.score(X_test, Y_test))\n",
    "    print(\"Model score on training data\", model.score(X_train, Y_train))\n",
    "    \n",
    "else:\n",
    "    print(\"Not applicable\")"
   ]
  },
  {
   "cell_type": "markdown",
   "id": "963ca405",
   "metadata": {},
   "source": [
    "# EDA"
   ]
  },
  {
   "cell_type": "code",
   "execution_count": 7,
   "id": "d142d9fb",
   "metadata": {},
   "outputs": [],
   "source": [
    "import pandas as pd\n",
    "df = pd.read_csv(\"emails.csv\")"
   ]
  },
  {
   "cell_type": "code",
   "execution_count": 8,
   "id": "0ba450e5",
   "metadata": {},
   "outputs": [
    {
     "name": "stdout",
     "output_type": "stream",
     "text": [
      "List 3:  ['sale', 'free', 'money', 'click', 'offer', 'million', 'unsubscribe', 'cash', 'viagra', 'opportunity', 'prize', 'discount', 'guaranteed', 'urgent', 'lottery']\n"
     ]
    }
   ],
   "source": [
    "lst2 = df.columns\n",
    "\n",
    "lst3 = []\n",
    "for i in lst2:\n",
    "    for j in lst:\n",
    "        if i==j:\n",
    "            lst3.append(i)\n",
    "print(\"List 3: \", lst3)"
   ]
  },
  {
   "cell_type": "code",
   "execution_count": 18,
   "id": "54d3d90e",
   "metadata": {},
   "outputs": [],
   "source": [
    "df_spam = df[df['Prediction'] == 1]"
   ]
  },
  {
   "cell_type": "code",
   "execution_count": 19,
   "id": "9eb2b5a5",
   "metadata": {},
   "outputs": [
    {
     "name": "stdout",
     "output_type": "stream",
     "text": [
      "[1076, 670, 365, 530, 560, 285, 143, 188, 196, 79, 101, 97, 47, 53, 40]\n"
     ]
    }
   ],
   "source": [
    "lst4 = []\n",
    "for i in lst3:\n",
    "    lst4.append(df[i].sum())\n",
    "print(lst4)"
   ]
  },
  {
   "cell_type": "code",
   "execution_count": 22,
   "id": "846d3c29",
   "metadata": {},
   "outputs": [
    {
     "data": {
      "image/png": "[encoded data removed]",
      "text/plain": [
       "<Figure size 640x480 with 1 Axes>"
      ]
     },
     "metadata": {},
     "output_type": "display_data"
    }
   ],
   "source": [
    "import matplotlib.pyplot as plt\n",
    "import matplotlib.cm as cm\n",
    "\n",
    "cmap = plt.get_cmap('viridis')\n",
    "\n",
    "normalized_data = [float(i)/max(lst4) for i in lst4]\n",
    "\n",
    "plt.barh(lst3, lst4, color=cmap(normalized_data))\n",
    "plt.xlabel(\"Frequency\")\n",
    "plt.ylabel(\"Spam words\")\n",
    "plt.title(\"Frequency of common spam words in Spam emails\")\n",
    "plt.show()"
   ]
  },
  {
   "cell_type": "code",
   "execution_count": 45,
   "id": "e36c6311",
   "metadata": {},
   "outputs": [
    {
     "data": {
      "image/png": "[encoded data removed]",
      "text/plain": [
       "<Figure size 640x480 with 1 Axes>"
      ]
     },
     "metadata": {},
     "output_type": "display_data"
    }
   ],
   "source": [
    "A = len(df[df['Prediction'] == 1])\n",
    "B = len(df[df['Prediction'] == 0])\n",
    "C = [A, B]\n",
    "\n",
    "plt.pie(C, labels = ['Spam emails', 'Non-spam emails'], shadow = True, explode = [0, 0.1], startangle = 90, colors = ['red', 'lightgreen'])\n",
    "plt.legend()\n",
    "plt.show()"
   ]
  },
  {
   "cell_type": "code",
   "execution_count": null,
   "id": "aa6c72d3",
   "metadata": {},
   "outputs": [],
   "source": []
  }
 ],
 "metadata": {
  "kernelspec": {
   "display_name": "Python 3 (ipykernel)",
   "language": "python",
   "name": "python3"
  },
  "language_info": {
   "codemirror_mode": {
    "name": "ipython",
    "version": 3
   },
   "file_extension": ".py",
   "mimetype": "text/x-python",
   "name": "python",
   "nbconvert_exporter": "python",
   "pygments_lexer": "ipython3",
   "version": "3.10.12"
  }
 },
 "nbformat": 4,
 "nbformat_minor": 5
}
